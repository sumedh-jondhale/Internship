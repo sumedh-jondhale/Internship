{
 "cells": [
  {
   "cell_type": "code",
   "execution_count": 1,
   "id": "e2c0464d",
   "metadata": {},
   "outputs": [
    {
     "name": "stdout",
     "output_type": "stream",
     "text": [
      "Requirement already satisfied: selenium in c:\\users\\dell\\anaconda3\\lib\\site-packages (4.8.0)\n",
      "Requirement already satisfied: certifi>=2021.10.8 in c:\\users\\dell\\anaconda3\\lib\\site-packages (from selenium) (2021.10.8)\n",
      "Requirement already satisfied: urllib3[socks]~=1.26 in c:\\users\\dell\\anaconda3\\lib\\site-packages (from selenium) (1.26.9)\n",
      "Requirement already satisfied: trio-websocket~=0.9 in c:\\users\\dell\\anaconda3\\lib\\site-packages (from selenium) (0.9.2)\n",
      "Requirement already satisfied: trio~=0.17 in c:\\users\\dell\\anaconda3\\lib\\site-packages (from selenium) (0.22.0)\n",
      "Requirement already satisfied: async-generator>=1.9 in c:\\users\\dell\\anaconda3\\lib\\site-packages (from trio~=0.17->selenium) (1.10)\n",
      "Requirement already satisfied: cffi>=1.14 in c:\\users\\dell\\anaconda3\\lib\\site-packages (from trio~=0.17->selenium) (1.15.0)\n",
      "Requirement already satisfied: outcome in c:\\users\\dell\\anaconda3\\lib\\site-packages (from trio~=0.17->selenium) (1.2.0)\n",
      "Requirement already satisfied: exceptiongroup>=1.0.0rc9 in c:\\users\\dell\\anaconda3\\lib\\site-packages (from trio~=0.17->selenium) (1.1.0)\n",
      "Requirement already satisfied: sortedcontainers in c:\\users\\dell\\anaconda3\\lib\\site-packages (from trio~=0.17->selenium) (2.4.0)\n",
      "Requirement already satisfied: attrs>=19.2.0 in c:\\users\\dell\\anaconda3\\lib\\site-packages (from trio~=0.17->selenium) (21.4.0)\n",
      "Requirement already satisfied: idna in c:\\users\\dell\\anaconda3\\lib\\site-packages (from trio~=0.17->selenium) (3.3)\n",
      "Requirement already satisfied: sniffio in c:\\users\\dell\\anaconda3\\lib\\site-packages (from trio~=0.17->selenium) (1.2.0)\n",
      "Requirement already satisfied: pycparser in c:\\users\\dell\\anaconda3\\lib\\site-packages (from cffi>=1.14->trio~=0.17->selenium) (2.21)\n",
      "Requirement already satisfied: wsproto>=0.14 in c:\\users\\dell\\anaconda3\\lib\\site-packages (from trio-websocket~=0.9->selenium) (1.2.0)\n",
      "Requirement already satisfied: PySocks!=1.5.7,<2.0,>=1.5.6 in c:\\users\\dell\\anaconda3\\lib\\site-packages (from urllib3[socks]~=1.26->selenium) (1.7.1)\n",
      "Requirement already satisfied: h11<1,>=0.9.0 in c:\\users\\dell\\anaconda3\\lib\\site-packages (from wsproto>=0.14->trio-websocket~=0.9->selenium) (0.14.0)\n"
     ]
    }
   ],
   "source": [
    "!pip install selenium"
   ]
  },
  {
   "cell_type": "code",
   "execution_count": 2,
   "id": "c8070db4",
   "metadata": {},
   "outputs": [],
   "source": [
    "import selenium \n",
    "import pandas as pd\n",
    "from selenium import webdriver\n",
    "import warnings\n",
    "warnings.filterwarnings('ignore')\n",
    "from selenium.webdriver.common.by import By\n",
    "import requests\n",
    "import time\n",
    "from selenium.common.exceptions import NoSuchElementException\n",
    "import re"
   ]
  },
  {
   "cell_type": "code",
   "execution_count": 3,
   "id": "49f0b8f1",
   "metadata": {},
   "outputs": [],
   "source": [
    "driver=webdriver.Chrome(r\"chromedriver.exe\")"
   ]
  },
  {
   "cell_type": "markdown",
   "id": "9eb9ad94",
   "metadata": {},
   "source": [
    "# Q1"
   ]
  },
  {
   "cell_type": "code",
   "execution_count": 4,
   "id": "6db9104e",
   "metadata": {},
   "outputs": [
    {
     "name": "stdout",
     "output_type": "stream",
     "text": [
      "enter your item:Guiter\n"
     ]
    }
   ],
   "source": [
    "val=input(\"enter your item:\")"
   ]
  },
  {
   "cell_type": "markdown",
   "id": "ecef4578",
   "metadata": {},
   "source": [
    "# Q2"
   ]
  },
  {
   "cell_type": "code",
   "execution_count": 26,
   "id": "1583fd2b",
   "metadata": {},
   "outputs": [],
   "source": [
    "driver=webdriver.Chrome(r\"chromedriver.exe\")"
   ]
  },
  {
   "cell_type": "code",
   "execution_count": 27,
   "id": "3336c86e",
   "metadata": {},
   "outputs": [],
   "source": [
    "driver.get(\"https://www.amazon.in/\")"
   ]
  },
  {
   "cell_type": "code",
   "execution_count": 62,
   "id": "de0bf0c1",
   "metadata": {},
   "outputs": [
    {
     "ename": "AttributeError",
     "evalue": "'list' object has no attribute 'send_keys'",
     "output_type": "error",
     "traceback": [
      "\u001b[1;31m---------------------------------------------------------------------------\u001b[0m",
      "\u001b[1;31mAttributeError\u001b[0m                            Traceback (most recent call last)",
      "Input \u001b[1;32mIn [62]\u001b[0m, in \u001b[0;36m<cell line: 2>\u001b[1;34m()\u001b[0m\n\u001b[0;32m      1\u001b[0m search_tags\u001b[38;5;241m=\u001b[39mdriver\u001b[38;5;241m.\u001b[39mfind_elements(By\u001b[38;5;241m.\u001b[39mXPATH,\u001b[38;5;124m\"\u001b[39m\u001b[38;5;124m//div[@class=\u001b[39m\u001b[38;5;124m'\u001b[39m\u001b[38;5;124mnav-search-field\u001b[39m\u001b[38;5;124m'\u001b[39m\u001b[38;5;124m]//input\u001b[39m\u001b[38;5;124m\"\u001b[39m)\n\u001b[1;32m----> 2\u001b[0m \u001b[43msearch_tags\u001b[49m\u001b[38;5;241;43m.\u001b[39;49m\u001b[43msend_keys\u001b[49m(\u001b[38;5;124m'\u001b[39m\u001b[38;5;124mguitar\u001b[39m\u001b[38;5;124m'\u001b[39m)\n\u001b[0;32m      3\u001b[0m search\u001b[38;5;241m=\u001b[39mdriver\u001b[38;5;241m.\u001b[39mfind_element(By\u001b[38;5;241m.\u001b[39mXPATH,\u001b[38;5;124m\"\u001b[39m\u001b[38;5;124m//div[@class=\u001b[39m\u001b[38;5;124m'\u001b[39m\u001b[38;5;124mnav-search-submit nav-sprite\u001b[39m\u001b[38;5;124m'\u001b[39m\u001b[38;5;124m]//span\u001b[39m\u001b[38;5;124m\"\u001b[39m)\n\u001b[0;32m      4\u001b[0m search\u001b[38;5;241m.\u001b[39mclick()\n",
      "\u001b[1;31mAttributeError\u001b[0m: 'list' object has no attribute 'send_keys'"
     ]
    }
   ],
   "source": [
    "search_tags=driver.find_elements(By.XPATH,\"//div[@class='nav-search-field']//input\")\n",
    "search_tags.send_keys('guitar')\n",
    "search=driver.find_element(By.XPATH,\"//div[@class='nav-search-submit nav-sprite']//span\")\n",
    "search.click()\n",
    "time.sleep(3)"
   ]
  },
  {
   "cell_type": "code",
   "execution_count": null,
   "id": "7bbda403",
   "metadata": {},
   "outputs": [],
   "source": []
  },
  {
   "cell_type": "code",
   "execution_count": null,
   "id": "00fb0a80",
   "metadata": {},
   "outputs": [],
   "source": []
  },
  {
   "cell_type": "markdown",
   "id": "78a94cc2",
   "metadata": {},
   "source": [
    "# Q3"
   ]
  },
  {
   "cell_type": "code",
   "execution_count": 51,
   "id": "09fb096e",
   "metadata": {},
   "outputs": [],
   "source": [
    "driver=webdriver.Chrome(r\"chromedriver.exe\")"
   ]
  },
  {
   "cell_type": "code",
   "execution_count": 52,
   "id": "ab222079",
   "metadata": {},
   "outputs": [],
   "source": [
    "driver.get(\"https://images.google.com/\")"
   ]
  },
  {
   "cell_type": "code",
   "execution_count": 57,
   "id": "8aa371da",
   "metadata": {},
   "outputs": [],
   "source": [
    "search_tags=driver.find_element(By.XPATH,\"//textarea[@class='gLFyf']\")\n",
    "search_tags.send_keys('cakes')"
   ]
  },
  {
   "cell_type": "code",
   "execution_count": 61,
   "id": "c5a363a8",
   "metadata": {},
   "outputs": [],
   "source": [
    "search=driver.find_element(By.XPATH,\"//span[@class='z1asCe MZy1Rb']\")\n",
    "search.click()"
   ]
  },
  {
   "cell_type": "code",
   "execution_count": 63,
   "id": "01f09907",
   "metadata": {},
   "outputs": [],
   "source": [
    "for _ in range(20):\n",
    "    driver.execute_script(\"window.scrollBy(0,1000)\")\n",
    "\n",
    "images=driver.find_elements(By.XPATH,'//img[@class=\"rg_i Q4LuWd\"]')\n",
    "\n",
    "img_urls = [ ]\n",
    "img_data = [ ]\n",
    "for image in images:\n",
    "    source=image.get_attribute('src')\n",
    "    if source is not None:\n",
    "        if(source[0:4]=='http'):\n",
    "            img_urls.append(source)"
   ]
  },
  {
   "cell_type": "code",
   "execution_count": 64,
   "id": "d0a404c8",
   "metadata": {},
   "outputs": [
    {
     "name": "stdout",
     "output_type": "stream",
     "text": [
      "Downloading 0 of 10 images\n",
      "Downloading 1 of 10 images\n",
      "Downloading 2 of 10 images\n",
      "Downloading 3 of 10 images\n",
      "Downloading 4 of 10 images\n",
      "Downloading 5 of 10 images\n",
      "Downloading 6 of 10 images\n",
      "Downloading 7 of 10 images\n",
      "Downloading 8 of 10 images\n",
      "Downloading 9 of 10 images\n",
      "Downloading 10 of 10 images\n"
     ]
    },
    {
     "ename": "NameError",
     "evalue": "name 'breakBy' is not defined",
     "output_type": "error",
     "traceback": [
      "\u001b[1;31m---------------------------------------------------------------------------\u001b[0m",
      "\u001b[1;31mNameError\u001b[0m                                 Traceback (most recent call last)",
      "Input \u001b[1;32mIn [64]\u001b[0m, in \u001b[0;36m<cell line: 1>\u001b[1;34m()\u001b[0m\n\u001b[0;32m      1\u001b[0m \u001b[38;5;28;01mfor\u001b[39;00m i \u001b[38;5;129;01min\u001b[39;00m \u001b[38;5;28mrange\u001b[39m(\u001b[38;5;28mlen\u001b[39m(img_urls)):\n\u001b[0;32m      2\u001b[0m     \u001b[38;5;28;01mif\u001b[39;00m i \u001b[38;5;241m>\u001b[39m \u001b[38;5;241m10\u001b[39m:\n\u001b[1;32m----> 3\u001b[0m         \u001b[43mbreakBy\u001b[49m\u001b[38;5;241m.\u001b[39mXPATH,\n\u001b[0;32m      4\u001b[0m     \u001b[38;5;28mprint\u001b[39m(\u001b[38;5;124m\"\u001b[39m\u001b[38;5;124mDownloading \u001b[39m\u001b[38;5;132;01m{0}\u001b[39;00m\u001b[38;5;124m of \u001b[39m\u001b[38;5;132;01m{1}\u001b[39;00m\u001b[38;5;124m images\u001b[39m\u001b[38;5;124m\"\u001b[39m \u001b[38;5;241m.\u001b[39mformat(i,\u001b[38;5;241m10\u001b[39m))\n\u001b[0;32m      5\u001b[0m     response\u001b[38;5;241m=\u001b[39mrequests\u001b[38;5;241m.\u001b[39mget(img_urls[i])\n",
      "\u001b[1;31mNameError\u001b[0m: name 'breakBy' is not defined"
     ]
    }
   ],
   "source": [
    "for i in range(len(img_urls)):\n",
    "    if i > 10:\n",
    "        breakBy.XPATH,\n",
    "    print(\"Downloading {0} of {1} images\" .format(i,10))\n",
    "    response=requests.get(img_urls[i])\n",
    "    file=open(r\"C:\\Users\\DELL\\images for assignment 3\" +str(i)+\".jpg\", \"wb\")\n",
    "    file.write(response.content)"
   ]
  },
  {
   "cell_type": "markdown",
   "id": "fd63288a",
   "metadata": {},
   "source": [
    "# Q4"
   ]
  },
  {
   "cell_type": "code",
   "execution_count": 70,
   "id": "fb6c77e2",
   "metadata": {},
   "outputs": [],
   "source": [
    "driver=webdriver.Chrome(r\"chromedriver.exe\")"
   ]
  },
  {
   "cell_type": "code",
   "execution_count": 71,
   "id": "9b90a518",
   "metadata": {},
   "outputs": [],
   "source": [
    "driver.get(\"https://www.flipkart.com/\")"
   ]
  },
  {
   "cell_type": "code",
   "execution_count": 72,
   "id": "54b623ba",
   "metadata": {},
   "outputs": [],
   "source": [
    "search_tags=driver.find_element(By.XPATH,'//div[@class=\"_3OO5Xc\"]//input')\n",
    "search_tags.send_keys('oneplus nord')"
   ]
  },
  {
   "cell_type": "code",
   "execution_count": 74,
   "id": "531068f9",
   "metadata": {},
   "outputs": [],
   "source": [
    "search=driver.find_element(By.XPATH,'//button[@class=\"L0Z3Pu\"]')\n",
    "search.click()"
   ]
  },
  {
   "cell_type": "code",
   "execution_count": 75,
   "id": "fd4af43b",
   "metadata": {},
   "outputs": [],
   "source": [
    "product_url=[ ]\n",
    "start=0\n",
    "end=1\n",
    "for page in range(start,end):\n",
    "    url=driver.find_elements(By.XPATH,'//a[@class=\"_1fQZEK\"]')\n",
    "    for i in url:\n",
    "        product_url.append(i.get_attribute(\"href\"))"
   ]
  },
  {
   "cell_type": "code",
   "execution_count": 76,
   "id": "a94d879e",
   "metadata": {},
   "outputs": [
    {
     "data": {
      "text/plain": [
       "24"
      ]
     },
     "execution_count": 76,
     "metadata": {},
     "output_type": "execute_result"
    }
   ],
   "source": [
    "len(product_url)"
   ]
  },
  {
   "cell_type": "code",
   "execution_count": 77,
   "id": "9ba076af",
   "metadata": {},
   "outputs": [],
   "source": [
    "BrandName=[ ]\n",
    "Smartphone_name=[ ]\n",
    "Colour=[ ]\n",
    "RAM=[ ]\n",
    "Storage=[ ]\n",
    "Primary_Camera=[ ]\n",
    "Secondary_Camera=[ ]\n",
    "Display_Size=[ ]\n",
    "Battery_Capacity=[ ]\n",
    "Price=[ ]"
   ]
  },
  {
   "cell_type": "code",
   "execution_count": 81,
   "id": "1132f2af",
   "metadata": {},
   "outputs": [
    {
     "ename": "AttributeError",
     "evalue": "'list' object has no attribute 'text'",
     "output_type": "error",
     "traceback": [
      "\u001b[1;31m---------------------------------------------------------------------------\u001b[0m",
      "\u001b[1;31mAttributeError\u001b[0m                            Traceback (most recent call last)",
      "Input \u001b[1;32mIn [81]\u001b[0m, in \u001b[0;36m<cell line: 1>\u001b[1;34m()\u001b[0m\n\u001b[0;32m      5\u001b[0m \u001b[38;5;28;01mtry\u001b[39;00m:\n\u001b[0;32m      6\u001b[0m     brand\u001b[38;5;241m=\u001b[39mdriver\u001b[38;5;241m.\u001b[39mfind_elements(By\u001b[38;5;241m.\u001b[39mXPATH,\u001b[38;5;124m'\u001b[39m\u001b[38;5;124m//div[@class=\u001b[39m\u001b[38;5;124m\"\u001b[39m\u001b[38;5;124m_4rR01T\u001b[39m\u001b[38;5;124m\"\u001b[39m\u001b[38;5;124m]\u001b[39m\u001b[38;5;124m'\u001b[39m)\n\u001b[1;32m----> 7\u001b[0m     BrandName\u001b[38;5;241m.\u001b[39mappend(\u001b[43mbrand\u001b[49m\u001b[38;5;241;43m.\u001b[39;49m\u001b[43mtext\u001b[49m)   \n\u001b[0;32m      9\u001b[0m     phonename\u001b[38;5;241m=\u001b[39mdriver\u001b[38;5;241m.\u001b[39mfind_elements(By\u001b[38;5;241m.\u001b[39mXPATH,\u001b[38;5;124m'\u001b[39m\u001b[38;5;124m'\u001b[39m)\n\u001b[0;32m     10\u001b[0m \u001b[38;5;28;01mexcept\u001b[39;00m NoSuchElementException:\n",
      "\u001b[1;31mAttributeError\u001b[0m: 'list' object has no attribute 'text'"
     ]
    }
   ],
   "source": [
    "for url in product_url:\n",
    "    driver.get(url)\n",
    "    time.sleep(2)\n",
    "    \n",
    "    try:\n",
    "        brand=driver.find_elements(By.XPATH,'//div[@class=\"_4rR01T\"]')\n",
    "        BrandName.append(brand.text)   \n",
    "        \n",
    "        phonename=driver.find_elements(By.XPATH,'')\n",
    "    except NoSuchElementException:\n",
    "        BrandName.append('-')"
   ]
  },
  {
   "cell_type": "code",
   "execution_count": 79,
   "id": "43ef7634",
   "metadata": {},
   "outputs": [
    {
     "data": {
      "text/html": [
       "<div>\n",
       "<style scoped>\n",
       "    .dataframe tbody tr th:only-of-type {\n",
       "        vertical-align: middle;\n",
       "    }\n",
       "\n",
       "    .dataframe tbody tr th {\n",
       "        vertical-align: top;\n",
       "    }\n",
       "\n",
       "    .dataframe thead th {\n",
       "        text-align: right;\n",
       "    }\n",
       "</style>\n",
       "<table border=\"1\" class=\"dataframe\">\n",
       "  <thead>\n",
       "    <tr style=\"text-align: right;\">\n",
       "      <th></th>\n",
       "      <th>Brand</th>\n",
       "    </tr>\n",
       "  </thead>\n",
       "  <tbody>\n",
       "  </tbody>\n",
       "</table>\n",
       "</div>"
      ],
      "text/plain": [
       "Empty DataFrame\n",
       "Columns: [Brand]\n",
       "Index: []"
      ]
     },
     "execution_count": 79,
     "metadata": {},
     "output_type": "execute_result"
    }
   ],
   "source": [
    "import pandas as pd\n",
    "df=pd.DataFrame({'Brand':BrandName})\n",
    "df"
   ]
  },
  {
   "cell_type": "code",
   "execution_count": null,
   "id": "c3a28e26",
   "metadata": {},
   "outputs": [],
   "source": []
  },
  {
   "cell_type": "code",
   "execution_count": null,
   "id": "40459513",
   "metadata": {},
   "outputs": [],
   "source": []
  },
  {
   "cell_type": "code",
   "execution_count": null,
   "id": "f2584d39",
   "metadata": {},
   "outputs": [],
   "source": []
  },
  {
   "cell_type": "code",
   "execution_count": null,
   "id": "03549358",
   "metadata": {},
   "outputs": [],
   "source": []
  },
  {
   "cell_type": "markdown",
   "id": "a82f09ae",
   "metadata": {},
   "source": [
    "# Q5"
   ]
  },
  {
   "cell_type": "code",
   "execution_count": 16,
   "id": "f9453b35",
   "metadata": {},
   "outputs": [],
   "source": [
    "driver=webdriver.Chrome(r\"chromedriver.exe\")"
   ]
  },
  {
   "cell_type": "code",
   "execution_count": 17,
   "id": "db7a597d",
   "metadata": {},
   "outputs": [],
   "source": [
    "driver.get(\"https://www.google.com/maps\")"
   ]
  },
  {
   "cell_type": "code",
   "execution_count": 18,
   "id": "92fb0a7b",
   "metadata": {},
   "outputs": [],
   "source": [
    "search_tags=driver.find_element(By.XPATH,'//input[@class=\"tactile-searchbox-input\"]')\n",
    "search_tags.send_keys('delhi')"
   ]
  },
  {
   "cell_type": "code",
   "execution_count": 19,
   "id": "6a7259e7",
   "metadata": {},
   "outputs": [],
   "source": [
    "search=driver.find_element(By.XPATH,'//div[@class=\"pzfvzf\"]')\n",
    "search.click()"
   ]
  },
  {
   "cell_type": "code",
   "execution_count": 22,
   "id": "867be46c",
   "metadata": {},
   "outputs": [
    {
     "name": "stdout",
     "output_type": "stream",
     "text": [
      "URL Extracted:  https://www.google.com/maps/place/Delhi/@18.5733603,73.97376,15z/data=!4m6!3m5!1s0x390cfd5b347eb62d:0x37205b715389640!8m2!3d28.7040592!4d77.1024902!16zL20vMDlmMDc\n",
      "Latitude = 18.5733603, Longitude = 73.97376\n"
     ]
    }
   ],
   "source": [
    "try:\n",
    "    url_string=driver.current_url\n",
    "    print(\"URL Extracted: \",url_string)\n",
    "    lat_lng=re.findall(r'@(.*)data' ,url_string)\n",
    "    if len(lat_lng):\n",
    "\n",
    "        lat_lng_list = lat_lng[0].split(\",\")\n",
    "\n",
    "        if len(lat_lng_list)>=2:\n",
    "\n",
    "            lat = lat_lng_list[0]\n",
    "\n",
    "            lng = lat_lng_list[1]\n",
    "\n",
    "        print(\"Latitude = {}, Longitude = {}\".format(lat, lng))\n",
    "\n",
    "\n",
    "\n",
    "except Exception as e:\n",
    "\n",
    "        print(\"Error: \", str(e))\n",
    "        \n",
    "    "
   ]
  },
  {
   "cell_type": "code",
   "execution_count": null,
   "id": "9fbe805f",
   "metadata": {},
   "outputs": [],
   "source": []
  },
  {
   "cell_type": "code",
   "execution_count": null,
   "id": "8d37ddf5",
   "metadata": {},
   "outputs": [],
   "source": []
  },
  {
   "cell_type": "code",
   "execution_count": null,
   "id": "400bf7c5",
   "metadata": {},
   "outputs": [],
   "source": []
  },
  {
   "cell_type": "markdown",
   "id": "2a6cc53b",
   "metadata": {},
   "source": [
    "# Q6"
   ]
  },
  {
   "cell_type": "code",
   "execution_count": 7,
   "id": "7b821c9f",
   "metadata": {},
   "outputs": [],
   "source": [
    "driver=webdriver.Chrome(r'chromedriver.exe')"
   ]
  },
  {
   "cell_type": "code",
   "execution_count": 8,
   "id": "e3ca0c5b",
   "metadata": {},
   "outputs": [],
   "source": [
    "driver.get(\"https://www.digit.in/\")"
   ]
  },
  {
   "cell_type": "code",
   "execution_count": 9,
   "id": "d7607ce3",
   "metadata": {},
   "outputs": [],
   "source": [
    "dropdown=driver.find_element(By.XPATH,'/html/body/div[1]/div/div[4]/ul/li[4]/a')\n",
    "dropdown.click()"
   ]
  },
  {
   "cell_type": "code",
   "execution_count": 10,
   "id": "5d47ab43",
   "metadata": {},
   "outputs": [],
   "source": [
    "laptopbutton=driver.find_element(By.XPATH,'/html/body/div[7]/div/div/div[2]/div[5]/div[1]/div/button[2]')\n",
    "laptopbutton.click()"
   ]
  },
  {
   "cell_type": "code",
   "execution_count": 11,
   "id": "dab5f9c1",
   "metadata": {},
   "outputs": [],
   "source": [
    "gaminglap=driver.find_element(By.XPATH,'/html/body/div[7]/div/div/div[2]/div[5]/div[3]/div[3]/a/div[2]')\n",
    "gaminglap.click()"
   ]
  },
  {
   "cell_type": "code",
   "execution_count": null,
   "id": "64055183",
   "metadata": {},
   "outputs": [],
   "source": []
  },
  {
   "cell_type": "markdown",
   "id": "350b0eac",
   "metadata": {},
   "source": [
    "\n",
    "# Q7"
   ]
  },
  {
   "cell_type": "code",
   "execution_count": 3,
   "id": "0445fb69",
   "metadata": {},
   "outputs": [],
   "source": [
    "driver=webdriver.Chrome(r'chromedriver.exe')"
   ]
  },
  {
   "cell_type": "code",
   "execution_count": 4,
   "id": "2352f670",
   "metadata": {},
   "outputs": [],
   "source": [
    "driver.get(\"https://www.forbes.com\")"
   ]
  },
  {
   "cell_type": "code",
   "execution_count": 5,
   "id": "7a548495",
   "metadata": {},
   "outputs": [],
   "source": [
    "hamburger=driver.find_element(By.XPATH,'//div[@role=\"button\"]')\n",
    "hamburger.click()"
   ]
  },
  {
   "cell_type": "code",
   "execution_count": 6,
   "id": "76acb3e6",
   "metadata": {},
   "outputs": [],
   "source": [
    "dropdown=driver.find_element(By.XPATH,'//div[@class=\"mpBfVZz3\"]//span')\n",
    "dropdown.click()"
   ]
  },
  {
   "cell_type": "code",
   "execution_count": 7,
   "id": "06c03691",
   "metadata": {},
   "outputs": [],
   "source": [
    "billionclick=driver.find_element(By.XPATH,'//li[@class=\"TjJgrPSg _2bNo56RE secondary\"]//a')\n",
    "billionclick.click()"
   ]
  },
  {
   "cell_type": "code",
   "execution_count": 8,
   "id": "0d1fa096",
   "metadata": {},
   "outputs": [],
   "source": [
    "rank=[ ]\n",
    "name=[ ]\n",
    "networth=[ ]\n",
    "country=[ ]\n",
    "source=[ ]"
   ]
  },
  {
   "cell_type": "code",
   "execution_count": 59,
   "id": "15f5cd6d",
   "metadata": {},
   "outputs": [],
   "source": [
    "rank_tags=driver.find_elements(By.XPATH,'//div[@class=\"rank\"]')\n",
    "for i in rank_tags:\n",
    "    rank.append(i.text)\n",
    "    \n",
    "name_tags=driver.find_elements(By.XPATH,'//div[@class=\"personName\"]')\n",
    "for i in name_tags:\n",
    "    name.append(i.text)\n",
    "    \n",
    "networth_tags=driver.find_elements(By.XPATH,'//div[@class=\"netWorth\"]')\n",
    "for i in networth_tags:\n",
    "    networth.append(i.text)\n",
    "    \n",
    "country_tags=driver.find_elements(By.XPATH,'//div[@class=\"countryOfCitizenship\"]')\n",
    "for i in country_tags:\n",
    "    country.append(i.text)\n",
    "    \n",
    "source_tags=driver.find_elements(By.XPATH,'//div[@class=\"source\"]')\n",
    "for i in source_tags:\n",
    "    source.append(i.text)"
   ]
  },
  {
   "cell_type": "code",
   "execution_count": 73,
   "id": "d287ff67",
   "metadata": {},
   "outputs": [
    {
     "data": {
      "text/plain": [
       "(200, 200, 200, 200, 200)"
      ]
     },
     "execution_count": 73,
     "metadata": {},
     "output_type": "execute_result"
    }
   ],
   "source": [
    "len(rank_tags),len(name_tags),len(networth_tags),len(country_tags),len(source_tags)"
   ]
  },
  {
   "cell_type": "code",
   "execution_count": null,
   "id": "3ecf0752",
   "metadata": {},
   "outputs": [],
   "source": [
    "import pandas as pd\n",
    "df=pd.DataFrame({'Name':name, 'Rank':rank, 'Networth':networth, 'Country':country, 'Source':source})\n",
    "df"
   ]
  },
  {
   "cell_type": "markdown",
   "id": "21b0c56a",
   "metadata": {},
   "source": [
    "# Q8"
   ]
  },
  {
   "cell_type": "code",
   "execution_count": 91,
   "id": "214f4c5d",
   "metadata": {},
   "outputs": [],
   "source": [
    "driver=webdriver.Chrome(r'chromedriver.exe')"
   ]
  },
  {
   "cell_type": "code",
   "execution_count": 94,
   "id": "88c6c0d1",
   "metadata": {},
   "outputs": [],
   "source": [
    "driver.get(\"https://youtube.com\")"
   ]
  },
  {
   "cell_type": "code",
   "execution_count": null,
   "id": "e213abfa",
   "metadata": {},
   "outputs": [],
   "source": []
  },
  {
   "cell_type": "code",
   "execution_count": null,
   "id": "ca7fc5d2",
   "metadata": {},
   "outputs": [],
   "source": []
  },
  {
   "cell_type": "markdown",
   "id": "e21c7014",
   "metadata": {},
   "source": [
    "# Q9"
   ]
  },
  {
   "cell_type": "code",
   "execution_count": 95,
   "id": "77f0ca1b",
   "metadata": {},
   "outputs": [],
   "source": [
    "driver=webdriver.Chrome(r'chromedriver.exe')"
   ]
  },
  {
   "cell_type": "code",
   "execution_count": 97,
   "id": "d11b44cd",
   "metadata": {},
   "outputs": [],
   "source": [
    "driver.get(\"https://www.hostelworld.com/\")"
   ]
  },
  {
   "cell_type": "code",
   "execution_count": 101,
   "id": "88352112",
   "metadata": {},
   "outputs": [],
   "source": [
    "search_tags=driver.find_element(By.XPATH,'//input[@class=\"search-input\"]')\n",
    "search_tags.send_keys('london')"
   ]
  },
  {
   "cell_type": "code",
   "execution_count": 103,
   "id": "ce1f7dbd",
   "metadata": {},
   "outputs": [],
   "source": [
    "search=driver.find_element(By.XPATH,'//div[@class=\"city-card\"]')\n",
    "search.click()"
   ]
  },
  {
   "cell_type": "code",
   "execution_count": 104,
   "id": "afa11c24",
   "metadata": {},
   "outputs": [],
   "source": [
    "name=[ ]\n",
    "distance=[ ]\n",
    "rating=[ ]\n",
    "review=[ ]\n",
    "price=[ ]"
   ]
  },
  {
   "cell_type": "code",
   "execution_count": 119,
   "id": "70c3717f",
   "metadata": {},
   "outputs": [],
   "source": [
    "name_tag=driver.find_elements(By.XPATH,'//h2[@class=\"title\"]//a')\n",
    "for i in name_tag:\n",
    "    name.append(i.text)\n",
    "    \n",
    "distance_tag=driver.find_elements(By.XPATH,'//div[@class=\"subtitle\"]//span')\n",
    "for i in distance_tag:\n",
    "    distance.append(i.text)"
   ]
  },
  {
   "cell_type": "code",
   "execution_count": 120,
   "id": "5505b87d",
   "metadata": {},
   "outputs": [
    {
     "data": {
      "text/plain": [
       "(247, 306)"
      ]
     },
     "execution_count": 120,
     "metadata": {},
     "output_type": "execute_result"
    }
   ],
   "source": [
    "len(name),len(distance)"
   ]
  },
  {
   "cell_type": "code",
   "execution_count": null,
   "id": "7d6e0479",
   "metadata": {},
   "outputs": [],
   "source": []
  }
 ],
 "metadata": {
  "kernelspec": {
   "display_name": "Python 3 (ipykernel)",
   "language": "python",
   "name": "python3"
  },
  "language_info": {
   "codemirror_mode": {
    "name": "ipython",
    "version": 3
   },
   "file_extension": ".py",
   "mimetype": "text/x-python",
   "name": "python",
   "nbconvert_exporter": "python",
   "pygments_lexer": "ipython3",
   "version": "3.9.12"
  }
 },
 "nbformat": 4,
 "nbformat_minor": 5
}
